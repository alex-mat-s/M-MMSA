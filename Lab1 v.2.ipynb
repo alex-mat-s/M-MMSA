{
 "cells": [
  {
   "cell_type": "code",
   "execution_count": 1,
   "id": "cf98f2a6",
   "metadata": {},
   "outputs": [],
   "source": [
    "%matplotlib inline\n",
    "from numpy.random import normal\n",
    "from numpy import hstack\n",
    "from numpy import asarray\n",
    "from numpy import exp\n",
    "from sklearn.neighbors import KernelDensity\n",
    "from sklearn import preprocessing\n",
    "from scipy import stats as st\n",
    "from scipy.optimize import minimize\n",
    "import math\n",
    "import matplotlib.pyplot as plt\n",
    "import seaborn as sns\n",
    "import numpy as np\n",
    "import pandas as pd\n",
    "import scipy\n",
    "from sklearn.mixture import GaussianMixture as GMM"
   ]
  },
  {
   "cell_type": "code",
   "execution_count": 2,
   "id": "f0b726ee",
   "metadata": {},
   "outputs": [
    {
     "data": {
      "text/html": [
       "<div>\n",
       "<style scoped>\n",
       "    .dataframe tbody tr th:only-of-type {\n",
       "        vertical-align: middle;\n",
       "    }\n",
       "\n",
       "    .dataframe tbody tr th {\n",
       "        vertical-align: top;\n",
       "    }\n",
       "\n",
       "    .dataframe thead th {\n",
       "        text-align: right;\n",
       "    }\n",
       "</style>\n",
       "<table border=\"1\" class=\"dataframe\">\n",
       "  <thead>\n",
       "    <tr style=\"text-align: right;\">\n",
       "      <th></th>\n",
       "      <th>time</th>\n",
       "      <th>generation biomass</th>\n",
       "      <th>generation fossil brown coal/lignite</th>\n",
       "      <th>generation fossil coal-derived gas</th>\n",
       "      <th>generation fossil gas</th>\n",
       "      <th>generation fossil hard coal</th>\n",
       "      <th>generation fossil oil</th>\n",
       "      <th>generation fossil oil shale</th>\n",
       "      <th>generation fossil peat</th>\n",
       "      <th>generation geothermal</th>\n",
       "      <th>...</th>\n",
       "      <th>generation waste</th>\n",
       "      <th>generation wind offshore</th>\n",
       "      <th>generation wind onshore</th>\n",
       "      <th>forecast solar day ahead</th>\n",
       "      <th>forecast wind offshore eday ahead</th>\n",
       "      <th>forecast wind onshore day ahead</th>\n",
       "      <th>total load forecast</th>\n",
       "      <th>total load actual</th>\n",
       "      <th>price day ahead</th>\n",
       "      <th>price actual</th>\n",
       "    </tr>\n",
       "  </thead>\n",
       "  <tbody>\n",
       "    <tr>\n",
       "      <th>0</th>\n",
       "      <td>2015-01-01 00:00:00+01:00</td>\n",
       "      <td>447.0</td>\n",
       "      <td>329.0</td>\n",
       "      <td>0.0</td>\n",
       "      <td>4844.0</td>\n",
       "      <td>4821.0</td>\n",
       "      <td>162.0</td>\n",
       "      <td>0.0</td>\n",
       "      <td>0.0</td>\n",
       "      <td>0.0</td>\n",
       "      <td>...</td>\n",
       "      <td>196.0</td>\n",
       "      <td>0.0</td>\n",
       "      <td>6378.0</td>\n",
       "      <td>17.0</td>\n",
       "      <td>NaN</td>\n",
       "      <td>6436.0</td>\n",
       "      <td>26118.0</td>\n",
       "      <td>25385.0</td>\n",
       "      <td>50.10</td>\n",
       "      <td>65.41</td>\n",
       "    </tr>\n",
       "    <tr>\n",
       "      <th>1</th>\n",
       "      <td>2015-01-01 01:00:00+01:00</td>\n",
       "      <td>449.0</td>\n",
       "      <td>328.0</td>\n",
       "      <td>0.0</td>\n",
       "      <td>5196.0</td>\n",
       "      <td>4755.0</td>\n",
       "      <td>158.0</td>\n",
       "      <td>0.0</td>\n",
       "      <td>0.0</td>\n",
       "      <td>0.0</td>\n",
       "      <td>...</td>\n",
       "      <td>195.0</td>\n",
       "      <td>0.0</td>\n",
       "      <td>5890.0</td>\n",
       "      <td>16.0</td>\n",
       "      <td>NaN</td>\n",
       "      <td>5856.0</td>\n",
       "      <td>24934.0</td>\n",
       "      <td>24382.0</td>\n",
       "      <td>48.10</td>\n",
       "      <td>64.92</td>\n",
       "    </tr>\n",
       "    <tr>\n",
       "      <th>2</th>\n",
       "      <td>2015-01-01 02:00:00+01:00</td>\n",
       "      <td>448.0</td>\n",
       "      <td>323.0</td>\n",
       "      <td>0.0</td>\n",
       "      <td>4857.0</td>\n",
       "      <td>4581.0</td>\n",
       "      <td>157.0</td>\n",
       "      <td>0.0</td>\n",
       "      <td>0.0</td>\n",
       "      <td>0.0</td>\n",
       "      <td>...</td>\n",
       "      <td>196.0</td>\n",
       "      <td>0.0</td>\n",
       "      <td>5461.0</td>\n",
       "      <td>8.0</td>\n",
       "      <td>NaN</td>\n",
       "      <td>5454.0</td>\n",
       "      <td>23515.0</td>\n",
       "      <td>22734.0</td>\n",
       "      <td>47.33</td>\n",
       "      <td>64.48</td>\n",
       "    </tr>\n",
       "    <tr>\n",
       "      <th>3</th>\n",
       "      <td>2015-01-01 03:00:00+01:00</td>\n",
       "      <td>438.0</td>\n",
       "      <td>254.0</td>\n",
       "      <td>0.0</td>\n",
       "      <td>4314.0</td>\n",
       "      <td>4131.0</td>\n",
       "      <td>160.0</td>\n",
       "      <td>0.0</td>\n",
       "      <td>0.0</td>\n",
       "      <td>0.0</td>\n",
       "      <td>...</td>\n",
       "      <td>191.0</td>\n",
       "      <td>0.0</td>\n",
       "      <td>5238.0</td>\n",
       "      <td>2.0</td>\n",
       "      <td>NaN</td>\n",
       "      <td>5151.0</td>\n",
       "      <td>22642.0</td>\n",
       "      <td>21286.0</td>\n",
       "      <td>42.27</td>\n",
       "      <td>59.32</td>\n",
       "    </tr>\n",
       "    <tr>\n",
       "      <th>4</th>\n",
       "      <td>2015-01-01 04:00:00+01:00</td>\n",
       "      <td>428.0</td>\n",
       "      <td>187.0</td>\n",
       "      <td>0.0</td>\n",
       "      <td>4130.0</td>\n",
       "      <td>3840.0</td>\n",
       "      <td>156.0</td>\n",
       "      <td>0.0</td>\n",
       "      <td>0.0</td>\n",
       "      <td>0.0</td>\n",
       "      <td>...</td>\n",
       "      <td>189.0</td>\n",
       "      <td>0.0</td>\n",
       "      <td>4935.0</td>\n",
       "      <td>9.0</td>\n",
       "      <td>NaN</td>\n",
       "      <td>4861.0</td>\n",
       "      <td>21785.0</td>\n",
       "      <td>20264.0</td>\n",
       "      <td>38.41</td>\n",
       "      <td>56.04</td>\n",
       "    </tr>\n",
       "  </tbody>\n",
       "</table>\n",
       "<p>5 rows × 29 columns</p>\n",
       "</div>"
      ],
      "text/plain": [
       "                        time  generation biomass  \\\n",
       "0  2015-01-01 00:00:00+01:00               447.0   \n",
       "1  2015-01-01 01:00:00+01:00               449.0   \n",
       "2  2015-01-01 02:00:00+01:00               448.0   \n",
       "3  2015-01-01 03:00:00+01:00               438.0   \n",
       "4  2015-01-01 04:00:00+01:00               428.0   \n",
       "\n",
       "   generation fossil brown coal/lignite  generation fossil coal-derived gas  \\\n",
       "0                                 329.0                                 0.0   \n",
       "1                                 328.0                                 0.0   \n",
       "2                                 323.0                                 0.0   \n",
       "3                                 254.0                                 0.0   \n",
       "4                                 187.0                                 0.0   \n",
       "\n",
       "   generation fossil gas  generation fossil hard coal  generation fossil oil  \\\n",
       "0                 4844.0                       4821.0                  162.0   \n",
       "1                 5196.0                       4755.0                  158.0   \n",
       "2                 4857.0                       4581.0                  157.0   \n",
       "3                 4314.0                       4131.0                  160.0   \n",
       "4                 4130.0                       3840.0                  156.0   \n",
       "\n",
       "   generation fossil oil shale  generation fossil peat  generation geothermal  \\\n",
       "0                          0.0                     0.0                    0.0   \n",
       "1                          0.0                     0.0                    0.0   \n",
       "2                          0.0                     0.0                    0.0   \n",
       "3                          0.0                     0.0                    0.0   \n",
       "4                          0.0                     0.0                    0.0   \n",
       "\n",
       "   ...  generation waste  generation wind offshore  generation wind onshore  \\\n",
       "0  ...             196.0                       0.0                   6378.0   \n",
       "1  ...             195.0                       0.0                   5890.0   \n",
       "2  ...             196.0                       0.0                   5461.0   \n",
       "3  ...             191.0                       0.0                   5238.0   \n",
       "4  ...             189.0                       0.0                   4935.0   \n",
       "\n",
       "   forecast solar day ahead  forecast wind offshore eday ahead  \\\n",
       "0                      17.0                                NaN   \n",
       "1                      16.0                                NaN   \n",
       "2                       8.0                                NaN   \n",
       "3                       2.0                                NaN   \n",
       "4                       9.0                                NaN   \n",
       "\n",
       "   forecast wind onshore day ahead  total load forecast  total load actual  \\\n",
       "0                           6436.0              26118.0            25385.0   \n",
       "1                           5856.0              24934.0            24382.0   \n",
       "2                           5454.0              23515.0            22734.0   \n",
       "3                           5151.0              22642.0            21286.0   \n",
       "4                           4861.0              21785.0            20264.0   \n",
       "\n",
       "   price day ahead  price actual  \n",
       "0            50.10         65.41  \n",
       "1            48.10         64.92  \n",
       "2            47.33         64.48  \n",
       "3            42.27         59.32  \n",
       "4            38.41         56.04  \n",
       "\n",
       "[5 rows x 29 columns]"
      ]
     },
     "execution_count": 2,
     "metadata": {},
     "output_type": "execute_result"
    }
   ],
   "source": [
    "energy_data = pd.read_csv('energy_dataset.csv', error_bad_lines=False)\n",
    "energy_data.head()"
   ]
  },
  {
   "cell_type": "code",
   "execution_count": 4,
   "id": "d794c482",
   "metadata": {},
   "outputs": [
    {
     "name": "stdout",
     "output_type": "stream",
     "text": [
      "forecast solar day ahead:  5356\n",
      "generation fossil oil:  322\n",
      "generation other renewable:  79\n"
     ]
    }
   ],
   "source": [
    "print(\"forecast solar day ahead: \", len(energy_data[\"forecast solar day ahead\"].unique()))\n",
    "print(\"generation fossil oil: \", len(energy_data[\"generation fossil oil\"].unique()))\n",
    "print(\"generation other renewable: \", len(energy_data[\"generation other renewable\"].unique()))"
   ]
  },
  {
   "cell_type": "code",
   "execution_count": 3,
   "id": "8d9620c5",
   "metadata": {},
   "outputs": [
    {
     "data": {
      "text/plain": [
       "time                                               0\n",
       "generation biomass                                19\n",
       "generation fossil brown coal/lignite              18\n",
       "generation fossil coal-derived gas                18\n",
       "generation fossil gas                             18\n",
       "generation fossil hard coal                       18\n",
       "generation fossil oil                             19\n",
       "generation fossil oil shale                       18\n",
       "generation fossil peat                            18\n",
       "generation geothermal                             18\n",
       "generation hydro pumped storage aggregated     35064\n",
       "generation hydro pumped storage consumption       19\n",
       "generation hydro run-of-river and poundage        19\n",
       "generation hydro water reservoir                  18\n",
       "generation marine                                 19\n",
       "generation nuclear                                17\n",
       "generation other                                  18\n",
       "generation other renewable                        18\n",
       "generation solar                                  18\n",
       "generation waste                                  19\n",
       "generation wind offshore                          18\n",
       "generation wind onshore                           18\n",
       "forecast solar day ahead                           0\n",
       "forecast wind offshore eday ahead              35064\n",
       "forecast wind onshore day ahead                    0\n",
       "total load forecast                                0\n",
       "total load actual                                 36\n",
       "price day ahead                                    0\n",
       "price actual                                       0\n",
       "dtype: int64"
      ]
     },
     "execution_count": 3,
     "metadata": {},
     "output_type": "execute_result"
    }
   ],
   "source": [
    "energy_data.isna().sum()"
   ]
  },
  {
   "cell_type": "code",
   "execution_count": 4,
   "id": "d5143033",
   "metadata": {},
   "outputs": [
    {
     "data": {
      "text/html": [
       "<div>\n",
       "<style scoped>\n",
       "    .dataframe tbody tr th:only-of-type {\n",
       "        vertical-align: middle;\n",
       "    }\n",
       "\n",
       "    .dataframe tbody tr th {\n",
       "        vertical-align: top;\n",
       "    }\n",
       "\n",
       "    .dataframe thead th {\n",
       "        text-align: right;\n",
       "    }\n",
       "</style>\n",
       "<table border=\"1\" class=\"dataframe\">\n",
       "  <thead>\n",
       "    <tr style=\"text-align: right;\">\n",
       "      <th></th>\n",
       "      <th>time</th>\n",
       "      <th>generation biomass</th>\n",
       "      <th>generation fossil brown coal/lignite</th>\n",
       "      <th>generation fossil coal-derived gas</th>\n",
       "      <th>generation fossil gas</th>\n",
       "      <th>generation fossil hard coal</th>\n",
       "      <th>generation fossil oil</th>\n",
       "      <th>generation fossil oil shale</th>\n",
       "      <th>generation fossil peat</th>\n",
       "      <th>generation geothermal</th>\n",
       "      <th>...</th>\n",
       "      <th>generation waste</th>\n",
       "      <th>generation wind offshore</th>\n",
       "      <th>generation wind onshore</th>\n",
       "      <th>forecast solar day ahead</th>\n",
       "      <th>forecast wind offshore eday ahead</th>\n",
       "      <th>forecast wind onshore day ahead</th>\n",
       "      <th>total load forecast</th>\n",
       "      <th>total load actual</th>\n",
       "      <th>price day ahead</th>\n",
       "      <th>price actual</th>\n",
       "    </tr>\n",
       "  </thead>\n",
       "  <tbody>\n",
       "    <tr>\n",
       "      <th>0</th>\n",
       "      <td>2015-01-01 00:00:00+01:00</td>\n",
       "      <td>447.0</td>\n",
       "      <td>329.0</td>\n",
       "      <td>0.0</td>\n",
       "      <td>4844.0</td>\n",
       "      <td>4821.0</td>\n",
       "      <td>162.0</td>\n",
       "      <td>0.0</td>\n",
       "      <td>0.0</td>\n",
       "      <td>0.0</td>\n",
       "      <td>...</td>\n",
       "      <td>196.0</td>\n",
       "      <td>0.0</td>\n",
       "      <td>6378.0</td>\n",
       "      <td>17.0</td>\n",
       "      <td>NaN</td>\n",
       "      <td>6436.0</td>\n",
       "      <td>26118.0</td>\n",
       "      <td>25385.0</td>\n",
       "      <td>50.10</td>\n",
       "      <td>65.41</td>\n",
       "    </tr>\n",
       "    <tr>\n",
       "      <th>1</th>\n",
       "      <td>2015-01-01 01:00:00+01:00</td>\n",
       "      <td>449.0</td>\n",
       "      <td>328.0</td>\n",
       "      <td>0.0</td>\n",
       "      <td>5196.0</td>\n",
       "      <td>4755.0</td>\n",
       "      <td>158.0</td>\n",
       "      <td>0.0</td>\n",
       "      <td>0.0</td>\n",
       "      <td>0.0</td>\n",
       "      <td>...</td>\n",
       "      <td>195.0</td>\n",
       "      <td>0.0</td>\n",
       "      <td>5890.0</td>\n",
       "      <td>16.0</td>\n",
       "      <td>NaN</td>\n",
       "      <td>5856.0</td>\n",
       "      <td>24934.0</td>\n",
       "      <td>24382.0</td>\n",
       "      <td>48.10</td>\n",
       "      <td>64.92</td>\n",
       "    </tr>\n",
       "    <tr>\n",
       "      <th>2</th>\n",
       "      <td>2015-01-01 02:00:00+01:00</td>\n",
       "      <td>448.0</td>\n",
       "      <td>323.0</td>\n",
       "      <td>0.0</td>\n",
       "      <td>4857.0</td>\n",
       "      <td>4581.0</td>\n",
       "      <td>157.0</td>\n",
       "      <td>0.0</td>\n",
       "      <td>0.0</td>\n",
       "      <td>0.0</td>\n",
       "      <td>...</td>\n",
       "      <td>196.0</td>\n",
       "      <td>0.0</td>\n",
       "      <td>5461.0</td>\n",
       "      <td>8.0</td>\n",
       "      <td>NaN</td>\n",
       "      <td>5454.0</td>\n",
       "      <td>23515.0</td>\n",
       "      <td>22734.0</td>\n",
       "      <td>47.33</td>\n",
       "      <td>64.48</td>\n",
       "    </tr>\n",
       "    <tr>\n",
       "      <th>3</th>\n",
       "      <td>2015-01-01 03:00:00+01:00</td>\n",
       "      <td>438.0</td>\n",
       "      <td>254.0</td>\n",
       "      <td>0.0</td>\n",
       "      <td>4314.0</td>\n",
       "      <td>4131.0</td>\n",
       "      <td>160.0</td>\n",
       "      <td>0.0</td>\n",
       "      <td>0.0</td>\n",
       "      <td>0.0</td>\n",
       "      <td>...</td>\n",
       "      <td>191.0</td>\n",
       "      <td>0.0</td>\n",
       "      <td>5238.0</td>\n",
       "      <td>2.0</td>\n",
       "      <td>NaN</td>\n",
       "      <td>5151.0</td>\n",
       "      <td>22642.0</td>\n",
       "      <td>21286.0</td>\n",
       "      <td>42.27</td>\n",
       "      <td>59.32</td>\n",
       "    </tr>\n",
       "    <tr>\n",
       "      <th>4</th>\n",
       "      <td>2015-01-01 04:00:00+01:00</td>\n",
       "      <td>428.0</td>\n",
       "      <td>187.0</td>\n",
       "      <td>0.0</td>\n",
       "      <td>4130.0</td>\n",
       "      <td>3840.0</td>\n",
       "      <td>156.0</td>\n",
       "      <td>0.0</td>\n",
       "      <td>0.0</td>\n",
       "      <td>0.0</td>\n",
       "      <td>...</td>\n",
       "      <td>189.0</td>\n",
       "      <td>0.0</td>\n",
       "      <td>4935.0</td>\n",
       "      <td>9.0</td>\n",
       "      <td>NaN</td>\n",
       "      <td>4861.0</td>\n",
       "      <td>21785.0</td>\n",
       "      <td>20264.0</td>\n",
       "      <td>38.41</td>\n",
       "      <td>56.04</td>\n",
       "    </tr>\n",
       "    <tr>\n",
       "      <th>...</th>\n",
       "      <td>...</td>\n",
       "      <td>...</td>\n",
       "      <td>...</td>\n",
       "      <td>...</td>\n",
       "      <td>...</td>\n",
       "      <td>...</td>\n",
       "      <td>...</td>\n",
       "      <td>...</td>\n",
       "      <td>...</td>\n",
       "      <td>...</td>\n",
       "      <td>...</td>\n",
       "      <td>...</td>\n",
       "      <td>...</td>\n",
       "      <td>...</td>\n",
       "      <td>...</td>\n",
       "      <td>...</td>\n",
       "      <td>...</td>\n",
       "      <td>...</td>\n",
       "      <td>...</td>\n",
       "      <td>...</td>\n",
       "      <td>...</td>\n",
       "    </tr>\n",
       "    <tr>\n",
       "      <th>35059</th>\n",
       "      <td>2018-12-31 19:00:00+01:00</td>\n",
       "      <td>297.0</td>\n",
       "      <td>0.0</td>\n",
       "      <td>0.0</td>\n",
       "      <td>7634.0</td>\n",
       "      <td>2628.0</td>\n",
       "      <td>178.0</td>\n",
       "      <td>0.0</td>\n",
       "      <td>0.0</td>\n",
       "      <td>0.0</td>\n",
       "      <td>...</td>\n",
       "      <td>277.0</td>\n",
       "      <td>0.0</td>\n",
       "      <td>3113.0</td>\n",
       "      <td>96.0</td>\n",
       "      <td>NaN</td>\n",
       "      <td>3253.0</td>\n",
       "      <td>30619.0</td>\n",
       "      <td>30653.0</td>\n",
       "      <td>68.85</td>\n",
       "      <td>77.02</td>\n",
       "    </tr>\n",
       "    <tr>\n",
       "      <th>35060</th>\n",
       "      <td>2018-12-31 20:00:00+01:00</td>\n",
       "      <td>296.0</td>\n",
       "      <td>0.0</td>\n",
       "      <td>0.0</td>\n",
       "      <td>7241.0</td>\n",
       "      <td>2566.0</td>\n",
       "      <td>174.0</td>\n",
       "      <td>0.0</td>\n",
       "      <td>0.0</td>\n",
       "      <td>0.0</td>\n",
       "      <td>...</td>\n",
       "      <td>280.0</td>\n",
       "      <td>0.0</td>\n",
       "      <td>3288.0</td>\n",
       "      <td>51.0</td>\n",
       "      <td>NaN</td>\n",
       "      <td>3353.0</td>\n",
       "      <td>29932.0</td>\n",
       "      <td>29735.0</td>\n",
       "      <td>68.40</td>\n",
       "      <td>76.16</td>\n",
       "    </tr>\n",
       "    <tr>\n",
       "      <th>35061</th>\n",
       "      <td>2018-12-31 21:00:00+01:00</td>\n",
       "      <td>292.0</td>\n",
       "      <td>0.0</td>\n",
       "      <td>0.0</td>\n",
       "      <td>7025.0</td>\n",
       "      <td>2422.0</td>\n",
       "      <td>168.0</td>\n",
       "      <td>0.0</td>\n",
       "      <td>0.0</td>\n",
       "      <td>0.0</td>\n",
       "      <td>...</td>\n",
       "      <td>286.0</td>\n",
       "      <td>0.0</td>\n",
       "      <td>3503.0</td>\n",
       "      <td>36.0</td>\n",
       "      <td>NaN</td>\n",
       "      <td>3404.0</td>\n",
       "      <td>27903.0</td>\n",
       "      <td>28071.0</td>\n",
       "      <td>66.88</td>\n",
       "      <td>74.30</td>\n",
       "    </tr>\n",
       "    <tr>\n",
       "      <th>35062</th>\n",
       "      <td>2018-12-31 22:00:00+01:00</td>\n",
       "      <td>293.0</td>\n",
       "      <td>0.0</td>\n",
       "      <td>0.0</td>\n",
       "      <td>6562.0</td>\n",
       "      <td>2293.0</td>\n",
       "      <td>163.0</td>\n",
       "      <td>0.0</td>\n",
       "      <td>0.0</td>\n",
       "      <td>0.0</td>\n",
       "      <td>...</td>\n",
       "      <td>287.0</td>\n",
       "      <td>0.0</td>\n",
       "      <td>3586.0</td>\n",
       "      <td>29.0</td>\n",
       "      <td>NaN</td>\n",
       "      <td>3273.0</td>\n",
       "      <td>25450.0</td>\n",
       "      <td>25801.0</td>\n",
       "      <td>63.93</td>\n",
       "      <td>69.89</td>\n",
       "    </tr>\n",
       "    <tr>\n",
       "      <th>35063</th>\n",
       "      <td>2018-12-31 23:00:00+01:00</td>\n",
       "      <td>290.0</td>\n",
       "      <td>0.0</td>\n",
       "      <td>0.0</td>\n",
       "      <td>6926.0</td>\n",
       "      <td>2166.0</td>\n",
       "      <td>163.0</td>\n",
       "      <td>0.0</td>\n",
       "      <td>0.0</td>\n",
       "      <td>0.0</td>\n",
       "      <td>...</td>\n",
       "      <td>287.0</td>\n",
       "      <td>0.0</td>\n",
       "      <td>3651.0</td>\n",
       "      <td>26.0</td>\n",
       "      <td>NaN</td>\n",
       "      <td>3117.0</td>\n",
       "      <td>24424.0</td>\n",
       "      <td>24455.0</td>\n",
       "      <td>64.27</td>\n",
       "      <td>69.88</td>\n",
       "    </tr>\n",
       "  </tbody>\n",
       "</table>\n",
       "<p>35064 rows × 29 columns</p>\n",
       "</div>"
      ],
      "text/plain": [
       "                            time  generation biomass  \\\n",
       "0      2015-01-01 00:00:00+01:00               447.0   \n",
       "1      2015-01-01 01:00:00+01:00               449.0   \n",
       "2      2015-01-01 02:00:00+01:00               448.0   \n",
       "3      2015-01-01 03:00:00+01:00               438.0   \n",
       "4      2015-01-01 04:00:00+01:00               428.0   \n",
       "...                          ...                 ...   \n",
       "35059  2018-12-31 19:00:00+01:00               297.0   \n",
       "35060  2018-12-31 20:00:00+01:00               296.0   \n",
       "35061  2018-12-31 21:00:00+01:00               292.0   \n",
       "35062  2018-12-31 22:00:00+01:00               293.0   \n",
       "35063  2018-12-31 23:00:00+01:00               290.0   \n",
       "\n",
       "       generation fossil brown coal/lignite  \\\n",
       "0                                     329.0   \n",
       "1                                     328.0   \n",
       "2                                     323.0   \n",
       "3                                     254.0   \n",
       "4                                     187.0   \n",
       "...                                     ...   \n",
       "35059                                   0.0   \n",
       "35060                                   0.0   \n",
       "35061                                   0.0   \n",
       "35062                                   0.0   \n",
       "35063                                   0.0   \n",
       "\n",
       "       generation fossil coal-derived gas  generation fossil gas  \\\n",
       "0                                     0.0                 4844.0   \n",
       "1                                     0.0                 5196.0   \n",
       "2                                     0.0                 4857.0   \n",
       "3                                     0.0                 4314.0   \n",
       "4                                     0.0                 4130.0   \n",
       "...                                   ...                    ...   \n",
       "35059                                 0.0                 7634.0   \n",
       "35060                                 0.0                 7241.0   \n",
       "35061                                 0.0                 7025.0   \n",
       "35062                                 0.0                 6562.0   \n",
       "35063                                 0.0                 6926.0   \n",
       "\n",
       "       generation fossil hard coal  generation fossil oil  \\\n",
       "0                           4821.0                  162.0   \n",
       "1                           4755.0                  158.0   \n",
       "2                           4581.0                  157.0   \n",
       "3                           4131.0                  160.0   \n",
       "4                           3840.0                  156.0   \n",
       "...                            ...                    ...   \n",
       "35059                       2628.0                  178.0   \n",
       "35060                       2566.0                  174.0   \n",
       "35061                       2422.0                  168.0   \n",
       "35062                       2293.0                  163.0   \n",
       "35063                       2166.0                  163.0   \n",
       "\n",
       "       generation fossil oil shale  generation fossil peat  \\\n",
       "0                              0.0                     0.0   \n",
       "1                              0.0                     0.0   \n",
       "2                              0.0                     0.0   \n",
       "3                              0.0                     0.0   \n",
       "4                              0.0                     0.0   \n",
       "...                            ...                     ...   \n",
       "35059                          0.0                     0.0   \n",
       "35060                          0.0                     0.0   \n",
       "35061                          0.0                     0.0   \n",
       "35062                          0.0                     0.0   \n",
       "35063                          0.0                     0.0   \n",
       "\n",
       "       generation geothermal  ...  generation waste  generation wind offshore  \\\n",
       "0                        0.0  ...             196.0                       0.0   \n",
       "1                        0.0  ...             195.0                       0.0   \n",
       "2                        0.0  ...             196.0                       0.0   \n",
       "3                        0.0  ...             191.0                       0.0   \n",
       "4                        0.0  ...             189.0                       0.0   \n",
       "...                      ...  ...               ...                       ...   \n",
       "35059                    0.0  ...             277.0                       0.0   \n",
       "35060                    0.0  ...             280.0                       0.0   \n",
       "35061                    0.0  ...             286.0                       0.0   \n",
       "35062                    0.0  ...             287.0                       0.0   \n",
       "35063                    0.0  ...             287.0                       0.0   \n",
       "\n",
       "       generation wind onshore  forecast solar day ahead  \\\n",
       "0                       6378.0                      17.0   \n",
       "1                       5890.0                      16.0   \n",
       "2                       5461.0                       8.0   \n",
       "3                       5238.0                       2.0   \n",
       "4                       4935.0                       9.0   \n",
       "...                        ...                       ...   \n",
       "35059                   3113.0                      96.0   \n",
       "35060                   3288.0                      51.0   \n",
       "35061                   3503.0                      36.0   \n",
       "35062                   3586.0                      29.0   \n",
       "35063                   3651.0                      26.0   \n",
       "\n",
       "       forecast wind offshore eday ahead  forecast wind onshore day ahead  \\\n",
       "0                                    NaN                           6436.0   \n",
       "1                                    NaN                           5856.0   \n",
       "2                                    NaN                           5454.0   \n",
       "3                                    NaN                           5151.0   \n",
       "4                                    NaN                           4861.0   \n",
       "...                                  ...                              ...   \n",
       "35059                                NaN                           3253.0   \n",
       "35060                                NaN                           3353.0   \n",
       "35061                                NaN                           3404.0   \n",
       "35062                                NaN                           3273.0   \n",
       "35063                                NaN                           3117.0   \n",
       "\n",
       "       total load forecast  total load actual  price day ahead  price actual  \n",
       "0                  26118.0            25385.0            50.10         65.41  \n",
       "1                  24934.0            24382.0            48.10         64.92  \n",
       "2                  23515.0            22734.0            47.33         64.48  \n",
       "3                  22642.0            21286.0            42.27         59.32  \n",
       "4                  21785.0            20264.0            38.41         56.04  \n",
       "...                    ...                ...              ...           ...  \n",
       "35059              30619.0            30653.0            68.85         77.02  \n",
       "35060              29932.0            29735.0            68.40         76.16  \n",
       "35061              27903.0            28071.0            66.88         74.30  \n",
       "35062              25450.0            25801.0            63.93         69.89  \n",
       "35063              24424.0            24455.0            64.27         69.88  \n",
       "\n",
       "[35064 rows x 29 columns]"
      ]
     },
     "execution_count": 4,
     "metadata": {},
     "output_type": "execute_result"
    }
   ],
   "source": [
    "energy_data.fillna(energy_data.mean())"
   ]
  },
  {
   "cell_type": "code",
   "execution_count": 5,
   "id": "f792ef0e",
   "metadata": {},
   "outputs": [],
   "source": [
    "sns.set_theme(style=\"whitegrid\")"
   ]
  },
  {
   "cell_type": "code",
   "execution_count": 6,
   "id": "3af7568b",
   "metadata": {},
   "outputs": [],
   "source": [
    "n = len(energy_data.index)"
   ]
  },
  {
   "cell_type": "code",
   "execution_count": 7,
   "id": "c8cb7537",
   "metadata": {},
   "outputs": [],
   "source": [
    "#generation hydro water reservoir\n",
    "ghwr_data = energy_data['generation hydro water reservoir']"
   ]
  },
  {
   "cell_type": "code",
   "execution_count": 8,
   "id": "34a0da07",
   "metadata": {},
   "outputs": [
    {
     "data": {
      "text/plain": [
       "0"
      ]
     },
     "execution_count": 8,
     "metadata": {},
     "output_type": "execute_result"
    }
   ],
   "source": [
    "ghwr_data.fillna(ghwr_data.mean(), inplace=True)\n",
    "ghwr_data.isna().sum()"
   ]
  },
  {
   "cell_type": "code",
   "execution_count": 10,
   "id": "4a92328e",
   "metadata": {},
   "outputs": [
    {
     "name": "stdout",
     "output_type": "stream",
     "text": [
      "<scipy.stats.kde.gaussian_kde object at 0x0000014F48E6CCA0>\n"
     ]
    },
    {
     "data": {
      "text/plain": [
       "[<matplotlib.lines.Line2D at 0x14f48ae3160>]"
      ]
     },
     "execution_count": 10,
     "metadata": {},
     "output_type": "execute_result"
    },
    {
     "data": {
      "image/png": "[encoded data removed]",
      "text/plain": [
       "<Figure size 720x576 with 1 Axes>"
      ]
     },
     "metadata": {},
     "output_type": "display_data"
    }
   ],
   "source": [
    "plt.figure(figsize=(10, 8))\n",
    "kernel = st.gaussian_kde(ghwr_data)\n",
    "print(kernel)\n",
    "min_amount, max_amount = ghwr_data.min(), ghwr_data.max()\n",
    "x = np.linspace(min_amount, max_amount, len(ghwr_data))\n",
    "kde_values = kernel(x)\n",
    "\n",
    "sns.histplot(ghwr_data, kde=False, bins=int(5 * math.log10(n)), stat='density', label=f'Generation hydro water reservoir')\n",
    "plt.plot(x, kde_values, color='r')"
   ]
  },
  {
   "cell_type": "code",
   "execution_count": 43,
   "id": "9618a394",
   "metadata": {},
   "outputs": [
    {
     "name": "stdout",
     "output_type": "stream",
     "text": [
      "count    35064.000000\n",
      "mean      2605.114735\n",
      "std       1834.728624\n",
      "min          0.000000\n",
      "25%       1078.000000\n",
      "50%       2165.000000\n",
      "75%       3756.250000\n",
      "max       9728.000000\n",
      "Name: generation hydro water reservoir, dtype: float64\n"
     ]
    }
   ],
   "source": [
    "ghwr_descr = ghwr_data.describe()\n",
    "\n",
    "print(ghwr_descr)"
   ]
  },
  {
   "cell_type": "code",
   "execution_count": 44,
   "id": "084e71a9",
   "metadata": {},
   "outputs": [
    {
     "data": {
      "image/png": "[encoded data removed]",
      "text/plain": [
       "<Figure size 432x288 with 1 Axes>"
      ]
     },
     "metadata": {},
     "output_type": "display_data"
    }
   ],
   "source": [
    "ax = sns.boxplot(x=ghwr_data)"
   ]
  },
  {
   "cell_type": "code",
   "execution_count": 45,
   "id": "ad07ddaf",
   "metadata": {},
   "outputs": [
    {
     "name": "stdout",
     "output_type": "stream",
     "text": [
      "(1.9054548298156626, -0.9829232271899719, 1367.7037507953773)\n"
     ]
    }
   ],
   "source": [
    "x = np.linspace(np.min(ghwr_data), np.max(ghwr_data))\n",
    "\n",
    "ghwr_params = st.gamma.fit(ghwr_data)\n",
    "#lognorm -\n",
    "\n",
    "print(ghwr_params)"
   ]
  },
  {
   "cell_type": "code",
   "execution_count": 46,
   "id": "b00319f1",
   "metadata": {},
   "outputs": [
    {
     "data": {
      "image/png": "[encoded data removed]",
      "text/plain": [
       "<Figure size 720x720 with 1 Axes>"
      ]
     },
     "metadata": {},
     "output_type": "display_data"
    }
   ],
   "source": [
    "#QQ-bilot\n",
    "# Plotting a quantile biplot for empirical and theoretical (lognormal) distribution\n",
    "\n",
    "# Calculation of quantiles\n",
    "percs = np.linspace(0, 100, 50)\n",
    "\n",
    "qn_first = np.percentile(ghwr_data, percs)\n",
    "qn_gamma = st.gamma.ppf(percs / 100.0, *ghwr_params)\n",
    "\n",
    "# Building a quantile biplot\n",
    "plt.figure(figsize=(10, 10))\n",
    "plt.plot(qn_first, qn_gamma, ls=\"\", marker=\"o\", markersize=6)\n",
    "plt.plot(x, x, color=\"k\", ls=\"--\")\n",
    "plt.xlim(0, 10000)\n",
    "plt.ylim(0, 10000)\n",
    "plt.xlabel(f'Empirical distribution')\n",
    "plt.ylabel('Theoretical (gamma) distribution')\n",
    "\n",
    "plt.show()"
   ]
  },
  {
   "cell_type": "code",
   "execution_count": 24,
   "id": "5323948d",
   "metadata": {},
   "outputs": [
    {
     "name": "stdout",
     "output_type": "stream",
     "text": [
      "[[0.00318275 0.00277883 0.00229781 ... 0.00474479 0.00346599 0.00282576]]\n"
     ]
    }
   ],
   "source": [
    "# normalized_ghwr_data = preprocessing.normalize([ghwr_data])\n",
    "# print(normalized_ghwr_data)"
   ]
  },
  {
   "cell_type": "code",
   "execution_count": 48,
   "id": "2002cce8",
   "metadata": {},
   "outputs": [
    {
     "name": "stdout",
     "output_type": "stream",
     "text": [
      "KstestResult(statistic=0.04046992856341916, pvalue=2.4537023783081662e-50)\n",
      "CramerVonMisesResult(statistic=19.638326499796747, pvalue=8.98746854716137e-09)\n"
     ]
    }
   ],
   "source": [
    "# Calculation of the Kolmogorov-Smirnov test and chi-square\n",
    "ks = st.kstest(ghwr_data, 'gamma', ghwr_params)\n",
    "\n",
    "cm = scipy.stats.cramervonmises(ghwr_data, 'gamma', ghwr_params)\n",
    "\n",
    "print(ks)\n",
    "print(cm)\n"
   ]
  },
  {
   "cell_type": "code",
   "execution_count": 49,
   "id": "db341554",
   "metadata": {},
   "outputs": [],
   "source": [
    "# def gamma_pdf(x, mu, sigma):\n",
    "#     exp = np.exp(-(np.log(x) - mu)**2 / (2 * sigma ** 2))\n",
    "\n",
    "#     frac =  (x * sigma * (2 * np.pi) ** 0.5)\n",
    "#     return exp / frac\n",
    "\n",
    "# hist, bin_edges = np.histogram(price, bins=30, density=True)\n",
    "\n",
    "# freq = [hist[i] for i in range(len(hist) - 1)]\n",
    "# positions = [(bin_edges[i] + bin_edges[i+1])/2  for i in range(len(hist) - 1)]\n",
    "# res_lsq, _ = scipy.optimize.curve_fit(lognorm_pdf, positions, freq)\n",
    "# mu, sigma = res_lsq\n",
    "# x = np.linspace(np.min(price), np.max(price), 30, dtype=np.float64)\n",
    "# theo_probs = list(map(partial(lognorm_pdf, sigma=sigma, mu = mu), x))\n",
    "# plt.plot(x, theo_probs, 'r--')\n",
    "# sns.histplot(price, kde=False, bins=30, stat='density', label=f'Average price in dollars')"
   ]
  },
  {
   "cell_type": "code",
   "execution_count": 50,
   "id": "ef2e60dc",
   "metadata": {},
   "outputs": [],
   "source": [
    "# generation wind onshore\n",
    "\n",
    "gwo_data = energy_data['generation wind onshore']"
   ]
  },
  {
   "cell_type": "code",
   "execution_count": 51,
   "id": "073d09c1",
   "metadata": {},
   "outputs": [
    {
     "data": {
      "text/plain": [
       "0"
      ]
     },
     "execution_count": 51,
     "metadata": {},
     "output_type": "execute_result"
    }
   ],
   "source": [
    "gwo_data.fillna(gwo_data.mean(), inplace=True)\n",
    "gwo_data.isna().sum()"
   ]
  },
  {
   "cell_type": "code",
   "execution_count": 52,
   "id": "4c1bac2b",
   "metadata": {},
   "outputs": [
    {
     "name": "stdout",
     "output_type": "stream",
     "text": [
      "<scipy.stats.kde.gaussian_kde object at 0x0000014F4B97D520>\n"
     ]
    },
    {
     "data": {
      "text/plain": [
       "[<matplotlib.lines.Line2D at 0x14f53c7b790>]"
      ]
     },
     "execution_count": 52,
     "metadata": {},
     "output_type": "execute_result"
    },
    {
     "data": {
      "image/png": "[encoded data removed]",
      "text/plain": [
       "<Figure size 720x576 with 1 Axes>"
      ]
     },
     "metadata": {},
     "output_type": "display_data"
    }
   ],
   "source": [
    "plt.figure(figsize=(10, 8))\n",
    "kernel = st.gaussian_kde(gwo_data)\n",
    "print(kernel)\n",
    "min_amount, max_amount = gwo_data.min(), gwo_data.max()\n",
    "x = np.linspace(min_amount, max_amount, len(gwo_data))\n",
    "kde_values = kernel(x)\n",
    "\n",
    "sns.histplot(gwo_data, kde=False, bins=int(5 * math.log10(n)), stat='density', label=f'A')\n",
    "plt.plot(x, kde_values, color='r')"
   ]
  },
  {
   "cell_type": "code",
   "execution_count": 54,
   "id": "ca4b93b8",
   "metadata": {},
   "outputs": [
    {
     "name": "stdout",
     "output_type": "stream",
     "text": [
      "count    35064.000000\n",
      "mean      5464.479769\n",
      "std       3212.866588\n",
      "min          0.000000\n",
      "25%       2933.750000\n",
      "50%       4850.500000\n",
      "75%       7397.000000\n",
      "max      17436.000000\n",
      "Name: generation wind onshore, dtype: float64\n"
     ]
    }
   ],
   "source": [
    "gwo_descr = gwo_data.describe()\n",
    "\n",
    "print(gwo_descr)"
   ]
  },
  {
   "cell_type": "code",
   "execution_count": 55,
   "id": "9e857747",
   "metadata": {},
   "outputs": [
    {
     "data": {
      "image/png": "[encoded data removed]",
      "text/plain": [
       "<Figure size 432x288 with 1 Axes>"
      ]
     },
     "metadata": {},
     "output_type": "display_data"
    }
   ],
   "source": [
    "ax = sns.boxplot(x=gwo_data)"
   ]
  },
  {
   "cell_type": "code",
   "execution_count": 56,
   "id": "7bc8a084",
   "metadata": {},
   "outputs": [
    {
     "name": "stdout",
     "output_type": "stream",
     "text": [
      "(298.31978884291624, 52.50569190227466)\n"
     ]
    }
   ],
   "source": [
    "x = np.linspace(np.min(gwo_data), np.max(gwo_data))\n",
    "\n",
    "gwo_params = st.gamma.fit(gwo_data)\n",
    "#lognorm -\n",
    "\n",
    "print(params)"
   ]
  },
  {
   "cell_type": "code",
   "execution_count": 57,
   "id": "ec81e46d",
   "metadata": {},
   "outputs": [
    {
     "data": {
      "image/png": "[encoded data removed]",
      "text/plain": [
       "<Figure size 720x720 with 1 Axes>"
      ]
     },
     "metadata": {},
     "output_type": "display_data"
    }
   ],
   "source": [
    "#QQ-bilot\n",
    "# Plotting a quantile biplot for empirical and theoretical (lognormal) distribution\n",
    "\n",
    "# Calculation of quantiles\n",
    "percs = np.linspace(0, 100, 50)\n",
    "\n",
    "qn_first = np.percentile(gwo_data, percs)\n",
    "qn_gamma = st.gamma.ppf(percs / 100.0, *gwo_params)\n",
    "\n",
    "# Building a quantile biplot\n",
    "plt.figure(figsize=(10, 10))\n",
    "plt.plot(qn_first, qn_gamma, ls=\"\", marker=\"o\", markersize=6)\n",
    "plt.plot(x, x, color=\"k\", ls=\"--\")\n",
    "plt.xlim(0, 17500)\n",
    "plt.ylim(0, 17500)\n",
    "plt.xlabel(f'Empirical distribution')\n",
    "plt.ylabel('Theoretical (gamma) distribution')\n",
    "\n",
    "plt.show()"
   ]
  },
  {
   "cell_type": "code",
   "execution_count": 58,
   "id": "d3aae72b",
   "metadata": {},
   "outputs": [
    {
     "name": "stdout",
     "output_type": "stream",
     "text": [
      "KstestResult(statistic=0.018142481996139437, pvalue=1.8640521055850942e-10)\n",
      "CramerVonMisesResult(statistic=3.877186512605061, pvalue=1.0064272748522285e-09)\n"
     ]
    }
   ],
   "source": [
    "# Calculation of the Kolmogorov-Smirnov test and chi-square\n",
    "ks = st.kstest(gwo_data, 'gamma', gwo_params)\n",
    "\n",
    "cm = scipy.stats.cramervonmises(gwo_data, 'gamma', gwo_params)\n",
    "\n",
    "print(ks)\n",
    "print(cm)"
   ]
  },
  {
   "cell_type": "code",
   "execution_count": 59,
   "id": "142330dd",
   "metadata": {},
   "outputs": [
    {
     "data": {
      "text/plain": [
       "0"
      ]
     },
     "execution_count": 59,
     "metadata": {},
     "output_type": "execute_result"
    }
   ],
   "source": [
    "#generation fossil oil\n",
    "gfo_data = energy_data['generation fossil oil']\n",
    "\n",
    "gfo_data.fillna(gfo_data.mean(), inplace=True)\n",
    "gfo_data.isna().sum()"
   ]
  },
  {
   "cell_type": "code",
   "execution_count": 66,
   "id": "b64f36dd",
   "metadata": {},
   "outputs": [
    {
     "name": "stdout",
     "output_type": "stream",
     "text": [
      "<scipy.stats.kde.gaussian_kde object at 0x0000014F53FB47F0>\n"
     ]
    },
    {
     "data": {
      "text/plain": [
       "[<matplotlib.lines.Line2D at 0x14f54014190>]"
      ]
     },
     "execution_count": 66,
     "metadata": {},
     "output_type": "execute_result"
    },
    {
     "data": {
      "image/png": "[encoded data removed]",
      "text/plain": [
       "<Figure size 720x576 with 1 Axes>"
      ]
     },
     "metadata": {},
     "output_type": "display_data"
    }
   ],
   "source": [
    "plt.figure(figsize=(10, 8))\n",
    "kernel = st.gaussian_kde(gfo_data)\n",
    "print(kernel)\n",
    "min_amount, max_amount = gfo_data.min(), gfo_data.max()\n",
    "x = np.linspace(min_amount, max_amount, len(gfo_data))\n",
    "kde_values = kernel(x)\n",
    "\n",
    "sns.histplot(gfo_data, kde=False, bins=int(5 * math.log10(n)), stat='density', label=f'')\n",
    "plt.plot(x, kde_values, color='r')"
   ]
  },
  {
   "cell_type": "code",
   "execution_count": 62,
   "id": "6d3d4b29",
   "metadata": {},
   "outputs": [
    {
     "name": "stdout",
     "output_type": "stream",
     "text": [
      "count    35064.000000\n",
      "mean       298.319789\n",
      "std         52.506441\n",
      "min          0.000000\n",
      "25%        263.000000\n",
      "50%        300.000000\n",
      "75%        330.000000\n",
      "max        449.000000\n",
      "Name: generation fossil oil, dtype: float64\n"
     ]
    }
   ],
   "source": [
    "gfo_descr = gfo_data.describe()\n",
    "\n",
    "print(gfo_descr)"
   ]
  },
  {
   "cell_type": "code",
   "execution_count": 63,
   "id": "03d01086",
   "metadata": {},
   "outputs": [
    {
     "data": {
      "image/png": "[encoded data removed]",
      "text/plain": [
       "<Figure size 432x288 with 1 Axes>"
      ]
     },
     "metadata": {},
     "output_type": "display_data"
    }
   ],
   "source": [
    "ax = sns.boxplot(x=gfo_data)"
   ]
  },
  {
   "cell_type": "code",
   "execution_count": 64,
   "id": "21e721c1",
   "metadata": {},
   "outputs": [
    {
     "name": "stdout",
     "output_type": "stream",
     "text": [
      "(298.31978884291624, 52.50569190227466)\n"
     ]
    }
   ],
   "source": [
    "x = np.linspace(np.min(gfo_data), np.max(gfo_data))\n",
    "\n",
    "gfo_params = st.norm.fit(gfo_data)\n",
    "\n",
    "print(gfo_params)"
   ]
  },
  {
   "cell_type": "code",
   "execution_count": 65,
   "id": "0b707e5b",
   "metadata": {},
   "outputs": [
    {
     "data": {
      "image/png": "[encoded data removed]",
      "text/plain": [
       "<Figure size 720x720 with 1 Axes>"
      ]
     },
     "metadata": {},
     "output_type": "display_data"
    }
   ],
   "source": [
    "#QQ-bilot\n",
    "# Plotting a quantile biplot for empirical and theoretical (lognormal) distribution\n",
    "\n",
    "# Calculation of quantiles\n",
    "percs = np.linspace(0, 100, 50)\n",
    "\n",
    "qn_first = np.percentile(gfo_data, percs)\n",
    "qn_norm = st.norm.ppf(percs / 100.0, *gfo_params)\n",
    "\n",
    "# Building a quantile biplot\n",
    "plt.figure(figsize=(10, 10))\n",
    "plt.plot(qn_first, qn_norm, ls=\"\", marker=\"o\", markersize=6)\n",
    "plt.plot(x, x, color=\"k\", ls=\"--\")\n",
    "plt.xlim(200, 500)\n",
    "plt.ylim(200, 500)\n",
    "plt.xlabel(f'Empirical distribution')\n",
    "plt.ylabel('Theoretical (norm) distribution')\n",
    "\n",
    "plt.show()"
   ]
  },
  {
   "cell_type": "code",
   "execution_count": 67,
   "id": "47d9be50",
   "metadata": {},
   "outputs": [],
   "source": [
    "# Calculation of the Kolmogorov-Smirnov test and chi-square\n",
    "# norm_data = st.norm(loc=loc, scale=scale)\n",
    "# ks = st.kstest(gfo_data, norm_data.cdf)\n",
    "\n",
    "# print(ks)\n",
    "#Shapiro-Wilk normality test"
   ]
  },
  {
   "cell_type": "code",
   "execution_count": 68,
   "id": "587fd9fe",
   "metadata": {},
   "outputs": [],
   "source": [
    "# normalized_gfo_data = preprocessing.normalize([gfo_data])\n",
    "# print(normalized_gfo_data)"
   ]
  },
  {
   "cell_type": "code",
   "execution_count": 69,
   "id": "b752b873",
   "metadata": {},
   "outputs": [
    {
     "name": "stdout",
     "output_type": "stream",
     "text": [
      "KstestResult(statistic=0.030900136769606346, pvalue=1.6067441056335166e-29)\n"
     ]
    }
   ],
   "source": [
    "ks = st.kstest(gfo_data, 'norm', gfo_params)\n",
    "print(ks)"
   ]
  },
  {
   "cell_type": "code",
   "execution_count": null,
   "id": "012fa10f",
   "metadata": {},
   "outputs": [],
   "source": []
  }
 ],
 "metadata": {
  "kernelspec": {
   "display_name": "Python 3",
   "language": "python",
   "name": "python3"
  },
  "language_info": {
   "codemirror_mode": {
    "name": "ipython",
    "version": 3
   },
   "file_extension": ".py",
   "mimetype": "text/x-python",
   "name": "python",
   "nbconvert_exporter": "python",
   "pygments_lexer": "ipython3",
   "version": "3.8.8"
  }
 },
 "nbformat": 4,
 "nbformat_minor": 5
}
